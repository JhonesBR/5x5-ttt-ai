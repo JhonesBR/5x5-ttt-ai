{
  "nbformat": 4,
  "nbformat_minor": 0,
  "metadata": {
    "colab": {
      "name": "5x5-ttt-ai.ipynb",
      "provenance": [],
      "collapsed_sections": [],
      "toc_visible": true
    },
    "kernelspec": {
      "name": "python3",
      "display_name": "Python 3"
    },
    "language_info": {
      "name": "python"
    }
  },
  "cells": [
    {
      "cell_type": "markdown",
      "metadata": {
        "id": "1yhiu8XQWujp"
      },
      "source": [
        "Goals:\n",
        "\n",
        "\n",
        "*   Create the game\n",
        "*   Create a function to verify the wins\n",
        "*   Generate random games\n",
        "*   Make the AI learn with these games\n",
        "*   Put the AI against itself\n",
        "*   A\n",
        "*   A\n",
        "*   A\n",
        "\n",
        "\n",
        "---"
      ]
    },
    {
      "cell_type": "markdown",
      "metadata": {
        "id": "WwpS-x3AaLT_"
      },
      "source": [
        "# The game\n",
        "\n",
        "#### To win the game one player needs to put 'X' or 'O' 4 time consecutively at horizontal, vertical or diagonal.\n",
        "#### There are exactly 28 possibilities to win this game (highlighted as bellow)\n",
        "![](https://i.imgur.com/WuT5XVu.png)\n",
        "#### So we need a function to check if the player wins.\n",
        "#### The board will be a 5x5 matrix\n",
        "\n",
        "```\n",
        "board = [['', '', '', '', ''],\n",
        "         ['', '', '', '', ''],\n",
        "         ['', '', '', '', ''],\n",
        "         ['', '', '', '', ''],\n",
        "         ['', '', '', '', '']]\n",
        "```\n",
        "\n",
        "\n",
        "---\n",
        "\n",
        "\n",
        "\n",
        "\n"
      ]
    },
    {
      "cell_type": "markdown",
      "metadata": {
        "id": "QvAJJ0JCdRFz"
      },
      "source": [
        "# Function to verify winning"
      ]
    },
    {
      "cell_type": "code",
      "metadata": {
        "id": "3OG8Ui2Kaq5S"
      },
      "source": [
        "def checkWinner(board):\n",
        "    # Horizontal win (X)\n",
        "    for j in range(2):\n",
        "        for i in range(5):\n",
        "            if board[i][0+j] == 'X' and board[i][1+j] == 'X' and board[i][2+j] == 'X' and board[i][3+j] == 'X':\n",
        "                return 'X'\n",
        "    # Horizontal win (O)\n",
        "    for j in range(2):\n",
        "        for i in range(5):\n",
        "            if board[i][0+j] == 'O' and board[i][1+j] == 'O' and board[i][2+j] == 'O' and board[i][3+j] == 'O':\n",
        "                return 'O'\n",
        "\n",
        "    # Verical win (X)\n",
        "    for j in range(2):\n",
        "        for i in range(5):\n",
        "            if board[0+j][i] == 'X' and board[1+j][i] == 'X' and board[2+j][i] == 'X' and board[3+j][i] == 'X':\n",
        "                return 'X'\n",
        "    # Verical win (O)\n",
        "    for j in range(2):\n",
        "        for i in range(5):\n",
        "            if board[0+j][i] == 'O' and board[1+j][i] == 'O' and board[2+j][i] == 'O' and board[3+j][i] == 'O':\n",
        "                return 'O'\n",
        "\n",
        "    # Right to left diagonal win (X)\n",
        "    for i in range(2):\n",
        "        for j in range(2):\n",
        "            if (board[0+i][3+j] == 'X' and board[1+i][2+j] == 'X' and board[2+i][1+j] == 'X' and board[3+i][0+j] == 'X'):\n",
        "                return \"X\"\n",
        "    # Left to right diagonal win (X)\n",
        "    for i in range(2):\n",
        "        for j in range(2):\n",
        "            if (board[0+i][0+j] == 'X' and board[1+i][1+j] == 'X' and board[2+i][2+j] == 'X' and board[3+i][3+j] == 'X'):\n",
        "                return \"X\"\n",
        "    \n",
        "    # Right to left diagonal win (O)\n",
        "    for i in range(2):\n",
        "        for j in range(2):\n",
        "            if (board[0+i][3+j] == 'O' and board[1+i][2+j] == 'O' and board[2+i][1+j] == 'O' and board[3+i][0+j] == 'O'):\n",
        "                return \"O\"\n",
        "    # Left to right diagonal win (O)\n",
        "    for i in range(2):\n",
        "        for j in range(2):\n",
        "            if (board[0+i][0+j] == 'O' and board[1+i][1+j] == 'O' and board[2+i][2+j] == 'O' and board[3+i][3+j] == 'O'):\n",
        "                return \"O\""
      ],
      "execution_count": 43,
      "outputs": []
    },
    {
      "cell_type": "code",
      "metadata": {
        "colab": {
          "base_uri": "https://localhost:8080/"
        },
        "id": "tF5nEs6Deug5",
        "outputId": "ddade3f7-8b69-40fe-f5b9-32f3ded63e5d"
      },
      "source": [
        "board = [['', '', '', '', ''],\n",
        "         ['', '', '', '', ''],\n",
        "         ['', '', '', '', ''],\n",
        "         ['', '', '', '', ''],\n",
        "         ['', '', '', '', '']]\n",
        "\n",
        "print(checkWinner(board))"
      ],
      "execution_count": 47,
      "outputs": [
        {
          "output_type": "stream",
          "text": [
            "None\n"
          ],
          "name": "stdout"
        }
      ]
    }
  ]
}